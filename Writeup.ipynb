{
 "cells": [
  {
   "cell_type": "code",
   "execution_count": 1,
   "id": "af9795b2",
   "metadata": {},
   "outputs": [
    {
     "name": "stdout",
     "output_type": "stream",
     "text": [
      "\n",
      "This is the completed version of my final project. I left short comments for each thing I'm doing - but in short,\n",
      "it's doing some pre-processing stuff as EDA and then getting into it.\n",
      "\n",
      "Then it does: \n",
      "TF-IDF into LDA\n",
      "NER\n",
      "WordClouds for a couple reviews for fun\n",
      "Translation via TextBlob into Spanish\n",
      "POS tagging\n",
      "Word2Vec similarity checks\n",
      "FreqDist from NLTK to find most common words\n",
      "Sentiment Analysis using pre-trained BertTokenizer\n",
      "\n",
      "The data is taken from a Rotten Tomatoes review compilation, as a text file.\n",
      "\n"
     ]
    }
   ],
   "source": [
    "print(\"\"\"\n",
    "This is the completed version of my final project. I left short comments for each thing I'm doing - but in short,\n",
    "it's doing some pre-processing stuff as EDA and then getting into it.\n",
    "\n",
    "Then it does: \n",
    "TF-IDF into LDA\n",
    "NER\n",
    "WordClouds for a couple reviews for fun\n",
    "Translation via TextBlob into Spanish\n",
    "POS tagging\n",
    "Word2Vec similarity checks\n",
    "FreqDist from NLTK to find most common words\n",
    "Sentiment Analysis using pre-trained BertTokenizer\n",
    "\n",
    "The data is taken from a Rotten Tomatoes review compilation, as a text file.\n",
    "\"\"\")"
   ]
  },
  {
   "cell_type": "code",
   "execution_count": null,
   "id": "d42b3af1",
   "metadata": {},
   "outputs": [],
   "source": []
  }
 ],
 "metadata": {
  "kernelspec": {
   "display_name": "Python 3 (ipykernel)",
   "language": "python",
   "name": "python3"
  },
  "language_info": {
   "codemirror_mode": {
    "name": "ipython",
    "version": 3
   },
   "file_extension": ".py",
   "mimetype": "text/x-python",
   "name": "python",
   "nbconvert_exporter": "python",
   "pygments_lexer": "ipython3",
   "version": "3.9.13"
  }
 },
 "nbformat": 4,
 "nbformat_minor": 5
}
