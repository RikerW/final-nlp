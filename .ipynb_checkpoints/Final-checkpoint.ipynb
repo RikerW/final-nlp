{
 "cells": [
  {
   "cell_type": "code",
   "execution_count": 88,
   "id": "15b46ca4",
   "metadata": {},
   "outputs": [
    {
     "name": "stderr",
     "output_type": "stream",
     "text": [
      "[nltk_data] Downloading package punkt to\n",
      "[nltk_data]     C:\\Users\\riker\\AppData\\Roaming\\nltk_data...\n",
      "[nltk_data]   Package punkt is already up-to-date!\n",
      "[nltk_data] Downloading package stopwords to\n",
      "[nltk_data]     C:\\Users\\riker\\AppData\\Roaming\\nltk_data...\n",
      "[nltk_data]   Package stopwords is already up-to-date!\n"
     ]
    }
   ],
   "source": [
    "import nltk\n",
    "from nltk.corpus import stopwords\n",
    "from nltk.tokenize import sent_tokenize, word_tokenize\n",
    "from nltk.probability import FreqDist\n",
    "from nltk.stem.porter import PorterStemmer\n",
    "nltk.download('punkt')\n",
    "nltk.download('stopwords')\n",
    "\n",
    "stop_words = set(stopwords.words('english'))\n",
    "\n",
    "from sklearn.feature_extraction.text import TfidfVectorizer\n",
    "from sklearn.decomposition import LatentDirichletAllocation\n",
    "\n",
    "import numpy as np\n",
    "import pandas as pd\n",
    "import matplotlib.pyplot as plt\n",
    "%matplotlib inline\n",
    "\n",
    "from wordcloud import WordCloud\n",
    "from textblob import TextBlob\n",
    "import gensim\n",
    "\n",
    "import spacy\n",
    "from spacy import displacy\n",
    "nlp = spacy.load('en_core_web_sm')\n",
    "\n",
    "import random\n",
    "\n",
    "import warnings\n",
    "warnings.filterwarnings(\"ignore\")\n",
    "\n",
    "\n",
    "import tensorflow as tf\n",
    "from transformers import BertTokenizer, TFBertForSequenceClassification"
   ]
  },
  {
   "cell_type": "code",
   "execution_count": 73,
   "id": "9a700fa6",
   "metadata": {},
   "outputs": [],
   "source": [
    "df = pd.read_csv(\"data/datasetSentences.txt\", index_col=0, delimiter = \"\\t\")"
   ]
  },
  {
   "cell_type": "code",
   "execution_count": 9,
   "id": "39c9874f",
   "metadata": {},
   "outputs": [
    {
     "data": {
      "text/html": [
       "<div>\n",
       "<style scoped>\n",
       "    .dataframe tbody tr th:only-of-type {\n",
       "        vertical-align: middle;\n",
       "    }\n",
       "\n",
       "    .dataframe tbody tr th {\n",
       "        vertical-align: top;\n",
       "    }\n",
       "\n",
       "    .dataframe thead th {\n",
       "        text-align: right;\n",
       "    }\n",
       "</style>\n",
       "<table border=\"1\" class=\"dataframe\">\n",
       "  <thead>\n",
       "    <tr style=\"text-align: right;\">\n",
       "      <th></th>\n",
       "      <th>sentence</th>\n",
       "    </tr>\n",
       "    <tr>\n",
       "      <th>sentence_index</th>\n",
       "      <th></th>\n",
       "    </tr>\n",
       "  </thead>\n",
       "  <tbody>\n",
       "    <tr>\n",
       "      <th>1</th>\n",
       "      <td>The Rock is destined to be the 21st Century 's...</td>\n",
       "    </tr>\n",
       "    <tr>\n",
       "      <th>2</th>\n",
       "      <td>The gorgeously elaborate continuation of `` Th...</td>\n",
       "    </tr>\n",
       "    <tr>\n",
       "      <th>3</th>\n",
       "      <td>Effective but too-tepid biopic</td>\n",
       "    </tr>\n",
       "    <tr>\n",
       "      <th>4</th>\n",
       "      <td>If you sometimes like to go to the movies to h...</td>\n",
       "    </tr>\n",
       "    <tr>\n",
       "      <th>5</th>\n",
       "      <td>Emerges as something rare , an issue movie tha...</td>\n",
       "    </tr>\n",
       "    <tr>\n",
       "      <th>...</th>\n",
       "      <td>...</td>\n",
       "    </tr>\n",
       "    <tr>\n",
       "      <th>11851</th>\n",
       "      <td>A real snooze .</td>\n",
       "    </tr>\n",
       "    <tr>\n",
       "      <th>11852</th>\n",
       "      <td>No surprises .</td>\n",
       "    </tr>\n",
       "    <tr>\n",
       "      <th>11853</th>\n",
       "      <td>We 've seen the hippie-turned-yuppie plot befo...</td>\n",
       "    </tr>\n",
       "    <tr>\n",
       "      <th>11854</th>\n",
       "      <td>Her fans walked out muttering words like `` ho...</td>\n",
       "    </tr>\n",
       "    <tr>\n",
       "      <th>11855</th>\n",
       "      <td>In this case zero .</td>\n",
       "    </tr>\n",
       "  </tbody>\n",
       "</table>\n",
       "<p>11855 rows × 1 columns</p>\n",
       "</div>"
      ],
      "text/plain": [
       "                                                         sentence\n",
       "sentence_index                                                   \n",
       "1               The Rock is destined to be the 21st Century 's...\n",
       "2               The gorgeously elaborate continuation of `` Th...\n",
       "3                                  Effective but too-tepid biopic\n",
       "4               If you sometimes like to go to the movies to h...\n",
       "5               Emerges as something rare , an issue movie tha...\n",
       "...                                                           ...\n",
       "11851                                             A real snooze .\n",
       "11852                                              No surprises .\n",
       "11853           We 've seen the hippie-turned-yuppie plot befo...\n",
       "11854           Her fans walked out muttering words like `` ho...\n",
       "11855                                         In this case zero .\n",
       "\n",
       "[11855 rows x 1 columns]"
      ]
     },
     "execution_count": 9,
     "metadata": {},
     "output_type": "execute_result"
    }
   ],
   "source": [
    "df"
   ]
  },
  {
   "cell_type": "code",
   "execution_count": 166,
   "id": "d911436e",
   "metadata": {},
   "outputs": [
    {
     "data": {
      "text/html": [
       "<div>\n",
       "<style scoped>\n",
       "    .dataframe tbody tr th:only-of-type {\n",
       "        vertical-align: middle;\n",
       "    }\n",
       "\n",
       "    .dataframe tbody tr th {\n",
       "        vertical-align: top;\n",
       "    }\n",
       "\n",
       "    .dataframe thead th {\n",
       "        text-align: right;\n",
       "    }\n",
       "</style>\n",
       "<table border=\"1\" class=\"dataframe\">\n",
       "  <thead>\n",
       "    <tr style=\"text-align: right;\">\n",
       "      <th></th>\n",
       "      <th>sentence</th>\n",
       "    </tr>\n",
       "  </thead>\n",
       "  <tbody>\n",
       "    <tr>\n",
       "      <th>0</th>\n",
       "      <td>Although Barbershop boasts some of today 's ho...</td>\n",
       "    </tr>\n",
       "    <tr>\n",
       "      <th>1</th>\n",
       "      <td>A puzzle whose pieces do not fit .</td>\n",
       "    </tr>\n",
       "    <tr>\n",
       "      <th>2</th>\n",
       "      <td>Some are fascinating and others are not , and ...</td>\n",
       "    </tr>\n",
       "    <tr>\n",
       "      <th>3</th>\n",
       "      <td>Would that Greengrass had gone a tad less for ...</td>\n",
       "    </tr>\n",
       "    <tr>\n",
       "      <th>4</th>\n",
       "      <td>The good is very , very good ... The rest runs...</td>\n",
       "    </tr>\n",
       "    <tr>\n",
       "      <th>...</th>\n",
       "      <td>...</td>\n",
       "    </tr>\n",
       "    <tr>\n",
       "      <th>495</th>\n",
       "      <td>The movie 's plot is almost entirely witless a...</td>\n",
       "    </tr>\n",
       "    <tr>\n",
       "      <th>496</th>\n",
       "      <td>... may work as an addictive guilty pleasure b...</td>\n",
       "    </tr>\n",
       "    <tr>\n",
       "      <th>497</th>\n",
       "      <td>This Scarlet 's letter is A. . .</td>\n",
       "    </tr>\n",
       "    <tr>\n",
       "      <th>498</th>\n",
       "      <td>as in aimless , arduous , and arbitrary .</td>\n",
       "    </tr>\n",
       "    <tr>\n",
       "      <th>499</th>\n",
       "      <td>Plays like a glossy melodrama that occasionall...</td>\n",
       "    </tr>\n",
       "  </tbody>\n",
       "</table>\n",
       "<p>500 rows × 1 columns</p>\n",
       "</div>"
      ],
      "text/plain": [
       "                                              sentence\n",
       "0    Although Barbershop boasts some of today 's ho...\n",
       "1                   A puzzle whose pieces do not fit .\n",
       "2    Some are fascinating and others are not , and ...\n",
       "3    Would that Greengrass had gone a tad less for ...\n",
       "4    The good is very , very good ... The rest runs...\n",
       "..                                                 ...\n",
       "495  The movie 's plot is almost entirely witless a...\n",
       "496  ... may work as an addictive guilty pleasure b...\n",
       "497                   This Scarlet 's letter is A. . .\n",
       "498          as in aimless , arduous , and arbitrary .\n",
       "499  Plays like a glossy melodrama that occasionall...\n",
       "\n",
       "[500 rows x 1 columns]"
      ]
     },
     "execution_count": 166,
     "metadata": {},
     "output_type": "execute_result"
    }
   ],
   "source": [
    "random.seed(10)\n",
    "split = random.randint(0, 10000)\n",
    "sentence_samples = df[split:split+500]\n",
    "sentence_samples.reset_index(drop=True, inplace=True)\n",
    "sentence_samples"
   ]
  },
  {
   "cell_type": "code",
   "execution_count": 52,
   "id": "af0b56c7",
   "metadata": {},
   "outputs": [],
   "source": [
    "def preprocess_text(text):\n",
    "    words = word_tokenize(text)\n",
    "    cleaned_words = word_tokenize(re.sub(r'[^a-zA-Z]', ' ', text))\n",
    "    cleaned_words = [word.lower() for word in cleaned_words if word.isalnum() and word not in stop_words]\n",
    "    return ' '.join(cleaned_words)"
   ]
  },
  {
   "cell_type": "code",
   "execution_count": 167,
   "id": "5dfb9470",
   "metadata": {
    "scrolled": true
   },
   "outputs": [
    {
     "data": {
      "text/html": [
       "<div>\n",
       "<style scoped>\n",
       "    .dataframe tbody tr th:only-of-type {\n",
       "        vertical-align: middle;\n",
       "    }\n",
       "\n",
       "    .dataframe tbody tr th {\n",
       "        vertical-align: top;\n",
       "    }\n",
       "\n",
       "    .dataframe thead th {\n",
       "        text-align: right;\n",
       "    }\n",
       "</style>\n",
       "<table border=\"1\" class=\"dataframe\">\n",
       "  <thead>\n",
       "    <tr style=\"text-align: right;\">\n",
       "      <th></th>\n",
       "      <th>sentence</th>\n",
       "    </tr>\n",
       "  </thead>\n",
       "  <tbody>\n",
       "    <tr>\n",
       "      <th>0</th>\n",
       "      <td>although barbershop boasts today hottest hippe...</td>\n",
       "    </tr>\n",
       "    <tr>\n",
       "      <th>1</th>\n",
       "      <td>a puzzle whose pieces fit</td>\n",
       "    </tr>\n",
       "    <tr>\n",
       "      <th>2</th>\n",
       "      <td>some fascinating others end almost good movie</td>\n",
       "    </tr>\n",
       "    <tr>\n",
       "      <th>3</th>\n",
       "      <td>would greengrass gone tad less grit lot intell...</td>\n",
       "    </tr>\n",
       "    <tr>\n",
       "      <th>4</th>\n",
       "      <td>the good good the rest runs mildly unimpressiv...</td>\n",
       "    </tr>\n",
       "    <tr>\n",
       "      <th>...</th>\n",
       "      <td>...</td>\n",
       "    </tr>\n",
       "    <tr>\n",
       "      <th>495</th>\n",
       "      <td>The movie 's plot is almost entirely witless a...</td>\n",
       "    </tr>\n",
       "    <tr>\n",
       "      <th>496</th>\n",
       "      <td>... may work as an addictive guilty pleasure b...</td>\n",
       "    </tr>\n",
       "    <tr>\n",
       "      <th>497</th>\n",
       "      <td>This Scarlet 's letter is A. . .</td>\n",
       "    </tr>\n",
       "    <tr>\n",
       "      <th>498</th>\n",
       "      <td>as in aimless , arduous , and arbitrary .</td>\n",
       "    </tr>\n",
       "    <tr>\n",
       "      <th>499</th>\n",
       "      <td>Plays like a glossy melodrama that occasionall...</td>\n",
       "    </tr>\n",
       "  </tbody>\n",
       "</table>\n",
       "<p>500 rows × 1 columns</p>\n",
       "</div>"
      ],
      "text/plain": [
       "                                              sentence\n",
       "0    although barbershop boasts today hottest hippe...\n",
       "1                            a puzzle whose pieces fit\n",
       "2        some fascinating others end almost good movie\n",
       "3    would greengrass gone tad less grit lot intell...\n",
       "4    the good good the rest runs mildly unimpressiv...\n",
       "..                                                 ...\n",
       "495  The movie 's plot is almost entirely witless a...\n",
       "496  ... may work as an addictive guilty pleasure b...\n",
       "497                   This Scarlet 's letter is A. . .\n",
       "498          as in aimless , arduous , and arbitrary .\n",
       "499  Plays like a glossy melodrama that occasionall...\n",
       "\n",
       "[500 rows x 1 columns]"
      ]
     },
     "execution_count": 167,
     "metadata": {},
     "output_type": "execute_result"
    }
   ],
   "source": [
    "sentence_samples_processed = sentence_samples.copy()\n",
    "for i in range(100):\n",
    "    sentence_samples_processed[\"sentence\"][i] = preprocess_text(sentence_samples_processed[\"sentence\"][i])\n",
    "    \n",
    "sentence_samples_processed"
   ]
  },
  {
   "cell_type": "code",
   "execution_count": 168,
   "id": "45fbd1d7",
   "metadata": {},
   "outputs": [
    {
     "data": {
      "text/plain": [
       "matrix([[4.68484218],\n",
       "        [2.        ],\n",
       "        [2.63543752],\n",
       "        [2.82656152],\n",
       "        [2.70687955],\n",
       "        [3.86874928],\n",
       "        [3.46117423],\n",
       "        [3.        ],\n",
       "        [2.44741977],\n",
       "        [2.44741977],\n",
       "        [2.81847013],\n",
       "        [3.604023  ],\n",
       "        [2.23387547],\n",
       "        [3.59983881],\n",
       "        [3.46007783],\n",
       "        [3.31176749],\n",
       "        [3.31055591],\n",
       "        [1.99672481],\n",
       "        [1.72962232],\n",
       "        [3.31174976],\n",
       "        [3.15601017],\n",
       "        [2.44741977],\n",
       "        [3.60073272],\n",
       "        [4.57528521],\n",
       "        [2.44948974],\n",
       "        [2.        ],\n",
       "        [2.82656152],\n",
       "        [2.82842712],\n",
       "        [3.31498372],\n",
       "        [2.69902625]])"
      ]
     },
     "execution_count": 168,
     "metadata": {},
     "output_type": "execute_result"
    }
   ],
   "source": [
    "tfidf = TfidfVectorizer()\n",
    "tfidf_matrix = tfidf.fit_transform(sentence_samples_processed[\"sentence\"][0:30])\n",
    "tfidf_scores = tfidf_matrix.sum(axis=1)\n",
    "tfidf_scores"
   ]
  },
  {
   "cell_type": "code",
   "execution_count": 169,
   "id": "041ca6b8",
   "metadata": {},
   "outputs": [
    {
     "name": "stdout",
     "output_type": "stream",
     "text": [
      "Topic 1:  ['wells', 'the', 'good', 'an', 'inexperienced']\n",
      "Topic 2:  ['seems', 'even', 'movie', 'better', 'comedy']\n",
      "Topic 3:  ['demeo', 'material', 'needs', 'talent', 'without']\n",
      "Topic 4:  ['seems', 'even', 'movie', 'better', 'comedy']\n",
      "Topic 5:  ['wrong', 'hands', 'peploe', 'simply', 'unbearable']\n",
      "Topic 6:  ['seems', 'even', 'movie', 'better', 'comedy']\n",
      "Topic 7:  ['almost', 'fascinating', 'others', 'some', 'end']\n",
      "Topic 8:  ['constantly', 'implausibility', 'intelligence', 'maelstrom', 'observant']\n",
      "Topic 9:  ['cloying', 'drama', 'eventually', 'gripping', 'initially']\n",
      "Topic 10:  ['detached', 'hero', 'life', 'mood', 'oddly']\n",
      "Topic 11:  ['definitely', 'guilty', 'category', 'enjoyable', 'fire']\n",
      "Topic 12:  ['many', 'resurrection', 'one', 'entertaining', 'new']\n",
      "Topic 13:  ['apparently', 'bothered', 'check', 'featuring', 'fewer']\n",
      "Topic 14:  ['seems', 'even', 'movie', 'better', 'comedy']\n",
      "Topic 15:  ['miss', 'near', 'soggy', 'timid', 'even']\n",
      "Topic 16:  ['bore', 'casual', 'filmgoers', 'majority', 'probably']\n",
      "Topic 17:  ['fit', 'pieces', 'puzzle', 'whose', 'even']\n",
      "Topic 18:  ['asian', 'episode', 'gushy', 'perspective', 'time']\n",
      "Topic 19:  ['seems', 'even', 'movie', 'better', 'comedy']\n",
      "Topic 20:  ['acts', 'although', 'barbershop', 'blaxploitation', 'boasts']\n"
     ]
    }
   ],
   "source": [
    "LDA = LatentDirichletAllocation(n_components = 20, random_state = 42)\n",
    "LDA.fit(tfidf_matrix)\n",
    "\n",
    "lda_components=LDA.components_\n",
    "terms = tfidf.get_feature_names()\n",
    "for index, component in enumerate(lda_components):\n",
    "    top_terms_key=sorted(zip(terms, component), key = lambda t: t[1], reverse=True)[:5]\n",
    "    top_terms_list=list(dict(top_terms_key).keys())\n",
    "    print(\"Topic \"+str(index+1)+\": \",top_terms_list)"
   ]
  },
  {
   "cell_type": "code",
   "execution_count": 170,
   "id": "fc30af1c",
   "metadata": {},
   "outputs": [],
   "source": [
    "colors = {'PERSON': 'linear-gradient(90deg, #aa9cfc, #fc9ce7)',\n",
    "'DATE': 'linear-gradient(90deg, #34ebb4, #9c34eb)',\n",
    "'ORG': 'linear-gradient(90deg, #eb3d34, #ebe834)',\n",
    "'GPE': 'linear-gradient(90deg, #eb34d9, #bd0636)',\n",
    "'TIME': 'linear-gradient(90deg, #9bbd06, #06bd89)',\n",
    "'NORP': 'linear-gradient(90deg, #067dbd, #1206bd)',\n",
    "'CARDINAL': 'linear-gradient(90deg, #06b4bd, #de0942)',\n",
    "}\n",
    "options = {'ents': ['PERSON', 'DATE', 'ORG', 'GPE', 'TIME', 'NORP', 'CARDINAL'], 'colors':colors}"
   ]
  },
  {
   "cell_type": "code",
   "execution_count": 171,
   "id": "9d2d3620",
   "metadata": {},
   "outputs": [
    {
     "data": {
      "text/html": [
       "<span class=\"tex2jax_ignore\"><div class=\"entities\" style=\"line-height: 2.5; direction: ltr\">although barbershop boasts \n",
       "<mark class=\"entity\" style=\"background: linear-gradient(90deg, #34ebb4, #9c34eb); padding: 0.45em 0.6em; margin: 0 0.25em; line-height: 1; border-radius: 0.35em;\">\n",
       "    today\n",
       "    <span style=\"font-size: 0.8em; font-weight: bold; line-height: 1; border-radius: 0.35em; vertical-align: middle; margin-left: 0.5rem\">DATE</span>\n",
       "</mark>\n",
       " hottest hippest acts world television music stand comedy movie strangely enough outdated swagger shameless blaxploitation shuck jive sitcom</div></span>"
      ],
      "text/plain": [
       "<IPython.core.display.HTML object>"
      ]
     },
     "metadata": {},
     "output_type": "display_data"
    },
    {
     "data": {
      "text/html": [
       "<span class=\"tex2jax_ignore\"><div class=\"entities\" style=\"line-height: 2.5; direction: ltr\">a puzzle whose pieces fit</div></span>"
      ],
      "text/plain": [
       "<IPython.core.display.HTML object>"
      ]
     },
     "metadata": {},
     "output_type": "display_data"
    },
    {
     "data": {
      "text/html": [
       "<span class=\"tex2jax_ignore\"><div class=\"entities\" style=\"line-height: 2.5; direction: ltr\">some fascinating others end almost good movie</div></span>"
      ],
      "text/plain": [
       "<IPython.core.display.HTML object>"
      ]
     },
     "metadata": {},
     "output_type": "display_data"
    },
    {
     "data": {
      "text/html": [
       "<span class=\"tex2jax_ignore\"><div class=\"entities\" style=\"line-height: 2.5; direction: ltr\">would greengrass gone tad less grit lot intelligibility</div></span>"
      ],
      "text/plain": [
       "<IPython.core.display.HTML object>"
      ]
     },
     "metadata": {},
     "output_type": "display_data"
    },
    {
     "data": {
      "text/html": [
       "<span class=\"tex2jax_ignore\"><div class=\"entities\" style=\"line-height: 2.5; direction: ltr\">the good good the rest runs mildly unimpressive despairingly awful</div></span>"
      ],
      "text/plain": [
       "<IPython.core.display.HTML object>"
      ]
     },
     "metadata": {},
     "output_type": "display_data"
    },
    {
     "data": {
      "text/html": [
       "<span class=\"tex2jax_ignore\"><div class=\"entities\" style=\"line-height: 2.5; direction: ltr\">butterfingered word big fisted direction jez butterworth manages blast even smallest sensitivities romance clamorous approach</div></span>"
      ],
      "text/plain": [
       "<IPython.core.display.HTML object>"
      ]
     },
     "metadata": {},
     "output_type": "display_data"
    },
    {
     "data": {
      "text/html": [
       "<span class=\"tex2jax_ignore\"><div class=\"entities\" style=\"line-height: 2.5; direction: ltr\">be forewarned depressed anything watching film may end trying drown lake afterwards</div></span>"
      ],
      "text/plain": [
       "<IPython.core.display.HTML object>"
      ]
     },
     "metadata": {},
     "output_type": "display_data"
    },
    {
     "data": {
      "text/html": [
       "<span class=\"tex2jax_ignore\"><div class=\"entities\" style=\"line-height: 2.5; direction: ltr\">terrible adaptation play ever walked delicate tightrope farcical loathsome</div></span>"
      ],
      "text/plain": [
       "<IPython.core.display.HTML object>"
      ]
     },
     "metadata": {},
     "output_type": "display_data"
    },
    {
     "data": {
      "text/html": [
       "<span class=\"tex2jax_ignore\"><div class=\"entities\" style=\"line-height: 2.5; direction: ltr\">in wrong hands e peploe simply unbearable</div></span>"
      ],
      "text/plain": [
       "<IPython.core.display.HTML object>"
      ]
     },
     "metadata": {},
     "output_type": "display_data"
    },
    {
     "data": {
      "text/html": [
       "<span class=\"tex2jax_ignore\"><div class=\"entities\" style=\"line-height: 2.5; direction: ltr\">an inexperienced director mehta much learn</div></span>"
      ],
      "text/plain": [
       "<IPython.core.display.HTML object>"
      ]
     },
     "metadata": {},
     "output_type": "display_data"
    },
    {
     "data": {
      "text/html": [
       "<span class=\"tex2jax_ignore\"><div class=\"entities\" style=\"line-height: 2.5; direction: ltr\">a limp eddie murphy vehicle even seems embarrassed part</div></span>"
      ],
      "text/plain": [
       "<IPython.core.display.HTML object>"
      ]
     },
     "metadata": {},
     "output_type": "display_data"
    },
    {
     "data": {
      "text/html": [
       "<span class=\"tex2jax_ignore\"><div class=\"entities\" style=\"line-height: 2.5; direction: ltr\">so muddled repetitive ragged says far less horrifying historical reality filmmaker characteristic style</div></span>"
      ],
      "text/plain": [
       "<IPython.core.display.HTML object>"
      ]
     },
     "metadata": {},
     "output_type": "display_data"
    },
    {
     "data": {
      "text/html": [
       "<span class=\"tex2jax_ignore\"><div class=\"entities\" style=\"line-height: 2.5; direction: ltr\">a gushy episode m a s h time \n",
       "<mark class=\"entity\" style=\"background: linear-gradient(90deg, #067dbd, #1206bd); padding: 0.45em 0.6em; margin: 0 0.25em; line-height: 1; border-radius: 0.35em;\">\n",
       "    asian\n",
       "    <span style=\"font-size: 0.8em; font-weight: bold; line-height: 1; border-radius: 0.35em; vertical-align: middle; margin-left: 0.5rem\">NORP</span>\n",
       "</mark>\n",
       " perspective</div></span>"
      ],
      "text/plain": [
       "<IPython.core.display.HTML object>"
      ]
     },
     "metadata": {},
     "output_type": "display_data"
    },
    {
     "data": {
      "text/html": [
       "<span class=\"tex2jax_ignore\"><div class=\"entities\" style=\"line-height: 2.5; direction: ltr\">looking for leonard seems kinda sit neutral hoping stiff wind blow uphill something</div></span>"
      ],
      "text/plain": [
       "<IPython.core.display.HTML object>"
      ]
     },
     "metadata": {},
     "output_type": "display_data"
    },
    {
     "data": {
      "text/html": [
       "<span class=\"tex2jax_ignore\"><div class=\"entities\" style=\"line-height: 2.5; direction: ltr\">nothing \n",
       "<mark class=\"entity\" style=\"background: linear-gradient(90deg, #06b4bd, #de0942); padding: 0.45em 0.6em; margin: 0 0.25em; line-height: 1; border-radius: 0.35em;\">\n",
       "    four\n",
       "    <span style=\"font-size: 0.8em; font-weight: bold; line-height: 1; border-radius: 0.35em; vertical-align: middle; margin-left: 0.5rem\">CARDINAL</span>\n",
       "</mark>\n",
       " \n",
       "<mark class=\"entity\" style=\"background: linear-gradient(90deg, #06b4bd, #de0942); padding: 0.45em 0.6em; margin: 0 0.25em; line-height: 1; border-radius: 0.35em;\">\n",
       "    five\n",
       "    <span style=\"font-size: 0.8em; font-weight: bold; line-height: 1; border-radius: 0.35em; vertical-align: middle; margin-left: 0.5rem\">CARDINAL</span>\n",
       "</mark>\n",
       " mild chuckles surrounded minutes overly familiar poorly constructed comedy</div></span>"
      ],
      "text/plain": [
       "<IPython.core.display.HTML object>"
      ]
     },
     "metadata": {},
     "output_type": "display_data"
    },
    {
     "data": {
      "text/html": [
       "<span class=\"tex2jax_ignore\"><div class=\"entities\" style=\"line-height: 2.5; direction: ltr\">definitely guilty pleasure b movie category reign fire incredibly inane laughingly enjoyable</div></span>"
      ],
      "text/plain": [
       "<IPython.core.display.HTML object>"
      ]
     },
     "metadata": {},
     "output_type": "display_data"
    },
    {
     "data": {
      "text/html": [
       "<span class=\"tex2jax_ignore\"><div class=\"entities\" style=\"line-height: 2.5; direction: ltr\">good looking relentlessly lowbrow outing plays like clueless does south fork</div></span>"
      ],
      "text/plain": [
       "<IPython.core.display.HTML object>"
      ]
     },
     "metadata": {},
     "output_type": "display_data"
    },
    {
     "data": {
      "text/html": [
       "<span class=\"tex2jax_ignore\"><div class=\"entities\" style=\"line-height: 2.5; direction: ltr\">entertaining enough nothing new</div></span>"
      ],
      "text/plain": [
       "<IPython.core.display.HTML object>"
      ]
     },
     "metadata": {},
     "output_type": "display_data"
    },
    {
     "data": {
      "text/html": [
       "<span class=\"tex2jax_ignore\"><div class=\"entities\" style=\"line-height: 2.5; direction: ltr\">\n",
       "<mark class=\"entity\" style=\"background: linear-gradient(90deg, #06b4bd, #de0942); padding: 0.45em 0.6em; margin: 0 0.25em; line-height: 1; border-radius: 0.35em;\">\n",
       "    one\n",
       "    <span style=\"font-size: 0.8em; font-weight: bold; line-height: 1; border-radius: 0.35em; vertical-align: middle; margin-left: 0.5rem\">CARDINAL</span>\n",
       "</mark>\n",
       " resurrection many</div></span>"
      ],
      "text/plain": [
       "<IPython.core.display.HTML object>"
      ]
     },
     "metadata": {},
     "output_type": "display_data"
    },
    {
     "data": {
      "text/html": [
       "<span class=\"tex2jax_ignore\"><div class=\"entities\" style=\"line-height: 2.5; direction: ltr\">this film irksome tiresome nature complacency remains utterly satisfied remain throughout</div></span>"
      ],
      "text/plain": [
       "<IPython.core.display.HTML object>"
      ]
     },
     "metadata": {},
     "output_type": "display_data"
    },
    {
     "data": {
      "text/html": [
       "<span class=\"tex2jax_ignore\"><div class=\"entities\" style=\"line-height: 2.5; direction: ltr\">even hero story rediscovers passion life mood remains oddly detached</div></span>"
      ],
      "text/plain": [
       "<IPython.core.display.HTML object>"
      ]
     },
     "metadata": {},
     "output_type": "display_data"
    },
    {
     "data": {
      "text/html": [
       "<span class=\"tex2jax_ignore\"><div class=\"entities\" style=\"line-height: 2.5; direction: ltr\">demeo without talent needs better material</div></span>"
      ],
      "text/plain": [
       "<IPython.core.display.HTML object>"
      ]
     },
     "metadata": {},
     "output_type": "display_data"
    },
    {
     "data": {
      "text/html": [
       "<span class=\"tex2jax_ignore\"><div class=\"entities\" style=\"line-height: 2.5; direction: ltr\">in spite featuring script credited fewer \n",
       "<mark class=\"entity\" style=\"background: linear-gradient(90deg, #06b4bd, #de0942); padding: 0.45em 0.6em; margin: 0 0.25em; line-height: 1; border-radius: 0.35em;\">\n",
       "    five\n",
       "    <span style=\"font-size: 0.8em; font-weight: bold; line-height: 1; border-radius: 0.35em; vertical-align: middle; margin-left: 0.5rem\">CARDINAL</span>\n",
       "</mark>\n",
       " writers apparently nobody bothered check twice</div></span>"
      ],
      "text/plain": [
       "<IPython.core.display.HTML object>"
      ]
     },
     "metadata": {},
     "output_type": "display_data"
    },
    {
     "data": {
      "text/html": [
       "<span class=\"tex2jax_ignore\"><div class=\"entities\" style=\"line-height: 2.5; direction: ltr\">no one involved save dash shows slightest aptitude acting script credited director \n",
       "<mark class=\"entity\" style=\"background: linear-gradient(90deg, #aa9cfc, #fc9ce7); padding: 0.45em 0.6em; margin: 0 0.25em; line-height: 1; border-radius: 0.35em;\">\n",
       "    abdul malik\n",
       "    <span style=\"font-size: 0.8em; font-weight: bold; line-height: 1; border-radius: 0.35em; vertical-align: middle; margin-left: 0.5rem\">PERSON</span>\n",
       "</mark>\n",
       " \n",
       "<mark class=\"entity\" style=\"background: linear-gradient(90deg, #aa9cfc, #fc9ce7); padding: 0.45em 0.6em; margin: 0 0.25em; line-height: 1; border-radius: 0.35em;\">\n",
       "    abbott ernest tron anderson\n",
       "    <span style=\"font-size: 0.8em; font-weight: bold; line-height: 1; border-radius: 0.35em; vertical-align: middle; margin-left: 0.5rem\">PERSON</span>\n",
       "</mark>\n",
       " seems entirely improvised</div></span>"
      ],
      "text/plain": [
       "<IPython.core.display.HTML object>"
      ]
     },
     "metadata": {},
     "output_type": "display_data"
    },
    {
     "data": {
      "text/html": [
       "<span class=\"tex2jax_ignore\"><div class=\"entities\" style=\"line-height: 2.5; direction: ltr\">initially gripping eventually cloying pow drama</div></span>"
      ],
      "text/plain": [
       "<IPython.core.display.HTML object>"
      ]
     },
     "metadata": {},
     "output_type": "display_data"
    },
    {
     "data": {
      "text/html": [
       "<span class=\"tex2jax_ignore\"><div class=\"entities\" style=\"line-height: 2.5; direction: ltr\">a timid soggy near miss</div></span>"
      ],
      "text/plain": [
       "<IPython.core.display.HTML object>"
      ]
     },
     "metadata": {},
     "output_type": "display_data"
    },
    {
     "data": {
      "text/html": [
       "<span class=\"tex2jax_ignore\"><div class=\"entities\" style=\"line-height: 2.5; direction: ltr\">works better conception execution winds seeming little clever</div></span>"
      ],
      "text/plain": [
       "<IPython.core.display.HTML object>"
      ]
     },
     "metadata": {},
     "output_type": "display_data"
    },
    {
     "data": {
      "text/html": [
       "<span class=\"tex2jax_ignore\"><div class=\"entities\" style=\"line-height: 2.5; direction: ltr\">to vast majority casual filmgoers probably talky bore</div></span>"
      ],
      "text/plain": [
       "<IPython.core.display.HTML object>"
      ]
     },
     "metadata": {},
     "output_type": "display_data"
    },
    {
     "data": {
      "text/html": [
       "<span class=\"tex2jax_ignore\"><div class=\"entities\" style=\"line-height: 2.5; direction: ltr\">observant intelligence constantly vies pretension sometimes plain wacky implausibility throughout maelstrom</div></span>"
      ],
      "text/plain": [
       "<IPython.core.display.HTML object>"
      ]
     },
     "metadata": {},
     "output_type": "display_data"
    },
    {
     "data": {
      "text/html": [
       "<span class=\"tex2jax_ignore\"><div class=\"entities\" style=\"line-height: 2.5; direction: ltr\">this version h g wells time machine directed h g wells great grandson</div></span>"
      ],
      "text/plain": [
       "<IPython.core.display.HTML object>"
      ]
     },
     "metadata": {},
     "output_type": "display_data"
    },
    {
     "data": {
      "text/html": [
       "<span class=\"tex2jax_ignore\"><div class=\"entities\" style=\"line-height: 2.5; direction: ltr\">they found orson welles great grandson</div></span>"
      ],
      "text/plain": [
       "<IPython.core.display.HTML object>"
      ]
     },
     "metadata": {},
     "output_type": "display_data"
    },
    {
     "data": {
      "text/html": [
       "<span class=\"tex2jax_ignore\"><div class=\"entities\" style=\"line-height: 2.5; direction: ltr\">shunji iwai all about lily \n",
       "<mark class=\"entity\" style=\"background: linear-gradient(90deg, #aa9cfc, #fc9ce7); padding: 0.45em 0.6em; margin: 0 0.25em; line-height: 1; border-radius: 0.35em;\">\n",
       "    chou chou beautifully shot\n",
       "    <span style=\"font-size: 0.8em; font-weight: bold; line-height: 1; border-radius: 0.35em; vertical-align: middle; margin-left: 0.5rem\">PERSON</span>\n",
       "</mark>\n",
       " ultimately flawed film growing \n",
       "<mark class=\"entity\" style=\"background: linear-gradient(90deg, #eb34d9, #bd0636); padding: 0.45em 0.6em; margin: 0 0.25em; line-height: 1; border-radius: 0.35em;\">\n",
       "    japan\n",
       "    <span style=\"font-size: 0.8em; font-weight: bold; line-height: 1; border-radius: 0.35em; vertical-align: middle; margin-left: 0.5rem\">GPE</span>\n",
       "</mark>\n",
       "</div></span>"
      ],
      "text/plain": [
       "<IPython.core.display.HTML object>"
      ]
     },
     "metadata": {},
     "output_type": "display_data"
    },
    {
     "data": {
      "text/html": [
       "<span class=\"tex2jax_ignore\"><div class=\"entities\" style=\"line-height: 2.5; direction: ltr\">with character development might eerie thriller better payoffs could thinking man monster movie</div></span>"
      ],
      "text/plain": [
       "<IPython.core.display.HTML object>"
      ]
     },
     "metadata": {},
     "output_type": "display_data"
    },
    {
     "data": {
      "text/html": [
       "<span class=\"tex2jax_ignore\"><div class=\"entities\" style=\"line-height: 2.5; direction: ltr\">thriller directorial debut traffic scribe gaghan right parts pieces n quite fit together</div></span>"
      ],
      "text/plain": [
       "<IPython.core.display.HTML object>"
      ]
     },
     "metadata": {},
     "output_type": "display_data"
    },
    {
     "data": {
      "text/html": [
       "<span class=\"tex2jax_ignore\"><div class=\"entities\" style=\"line-height: 2.5; direction: ltr\">would total loss \n",
       "<mark class=\"entity\" style=\"background: linear-gradient(90deg, #06b4bd, #de0942); padding: 0.45em 0.6em; margin: 0 0.25em; line-height: 1; border-radius: 0.35em;\">\n",
       "    two\n",
       "    <span style=\"font-size: 0.8em; font-weight: bold; line-height: 1; border-radius: 0.35em; vertical-align: middle; margin-left: 0.5rem\">CARDINAL</span>\n",
       "</mark>\n",
       " supporting performances taking place movie edges</div></span>"
      ],
      "text/plain": [
       "<IPython.core.display.HTML object>"
      ]
     },
     "metadata": {},
     "output_type": "display_data"
    },
    {
     "data": {
      "text/html": [
       "<span class=\"tex2jax_ignore\"><div class=\"entities\" style=\"line-height: 2.5; direction: ltr\">there single jump seat moment believe \n",
       "<mark class=\"entity\" style=\"background: linear-gradient(90deg, #aa9cfc, #fc9ce7); padding: 0.45em 0.6em; margin: 0 0.25em; line-height: 1; border-radius: 0.35em;\">\n",
       "    jason\n",
       "    <span style=\"font-size: 0.8em; font-weight: bold; line-height: 1; border-radius: 0.35em; vertical-align: middle; margin-left: 0.5rem\">PERSON</span>\n",
       "</mark>\n",
       " actually takes backseat film special effects</div></span>"
      ],
      "text/plain": [
       "<IPython.core.display.HTML object>"
      ]
     },
     "metadata": {},
     "output_type": "display_data"
    },
    {
     "data": {
      "text/html": [
       "<span class=\"tex2jax_ignore\"><div class=\"entities\" style=\"line-height: 2.5; direction: ltr\">goldbacher draws elegant visual sense talent easy seductive pacing writing partner laurence coriat n manage equally assured narrative coinage</div></span>"
      ],
      "text/plain": [
       "<IPython.core.display.HTML object>"
      ]
     },
     "metadata": {},
     "output_type": "display_data"
    },
    {
     "data": {
      "text/html": [
       "<span class=\"tex2jax_ignore\"><div class=\"entities\" style=\"line-height: 2.5; direction: ltr\">though harris affecting times overcome sense pumpkin mere plot pawn \n",
       "<mark class=\"entity\" style=\"background: linear-gradient(90deg, #06b4bd, #de0942); padding: 0.45em 0.6em; margin: 0 0.25em; line-height: 1; border-radius: 0.35em;\">\n",
       "    two\n",
       "    <span style=\"font-size: 0.8em; font-weight: bold; line-height: 1; border-radius: 0.35em; vertical-align: middle; margin-left: 0.5rem\">CARDINAL</span>\n",
       "</mark>\n",
       " directors far less endearing disabilities</div></span>"
      ],
      "text/plain": [
       "<IPython.core.display.HTML object>"
      ]
     },
     "metadata": {},
     "output_type": "display_data"
    },
    {
     "data": {
      "text/html": [
       "<span class=\"tex2jax_ignore\"><div class=\"entities\" style=\"line-height: 2.5; direction: ltr\">the documentary much conventional lots boring talking heads etc subject matter justice</div></span>"
      ],
      "text/plain": [
       "<IPython.core.display.HTML object>"
      ]
     },
     "metadata": {},
     "output_type": "display_data"
    },
    {
     "data": {
      "text/html": [
       "<span class=\"tex2jax_ignore\"><div class=\"entities\" style=\"line-height: 2.5; direction: ltr\">the movie appears running hypertime reverse truly funny bits get apart</div></span>"
      ],
      "text/plain": [
       "<IPython.core.display.HTML object>"
      ]
     },
     "metadata": {},
     "output_type": "display_data"
    },
    {
     "data": {
      "text/html": [
       "<span class=\"tex2jax_ignore\"><div class=\"entities\" style=\"line-height: 2.5; direction: ltr\">this \n",
       "<mark class=\"entity\" style=\"background: linear-gradient(90deg, #aa9cfc, #fc9ce7); padding: 0.45em 0.6em; margin: 0 0.25em; line-height: 1; border-radius: 0.35em;\">\n",
       "    jackie chan\n",
       "    <span style=\"font-size: 0.8em; font-weight: bold; line-height: 1; border-radius: 0.35em; vertical-align: middle; margin-left: 0.5rem\">PERSON</span>\n",
       "</mark>\n",
       " movie</div></span>"
      ],
      "text/plain": [
       "<IPython.core.display.HTML object>"
      ]
     },
     "metadata": {},
     "output_type": "display_data"
    },
    {
     "data": {
      "text/html": [
       "<span class=\"tex2jax_ignore\"><div class=\"entities\" style=\"line-height: 2.5; direction: ltr\">it movie happens \n",
       "<mark class=\"entity\" style=\"background: linear-gradient(90deg, #aa9cfc, #fc9ce7); padding: 0.45em 0.6em; margin: 0 0.25em; line-height: 1; border-radius: 0.35em;\">\n",
       "    jackie chan\n",
       "    <span style=\"font-size: 0.8em; font-weight: bold; line-height: 1; border-radius: 0.35em; vertical-align: middle; margin-left: 0.5rem\">PERSON</span>\n",
       "</mark>\n",
       "</div></span>"
      ],
      "text/plain": [
       "<IPython.core.display.HTML object>"
      ]
     },
     "metadata": {},
     "output_type": "display_data"
    },
    {
     "data": {
      "text/html": [
       "<span class=\"tex2jax_ignore\"><div class=\"entities\" style=\"line-height: 2.5; direction: ltr\">and makes difference</div></span>"
      ],
      "text/plain": [
       "<IPython.core.display.HTML object>"
      ]
     },
     "metadata": {},
     "output_type": "display_data"
    },
    {
     "data": {
      "text/html": [
       "<span class=\"tex2jax_ignore\"><div class=\"entities\" style=\"line-height: 2.5; direction: ltr\">\n",
       "<mark class=\"entity\" style=\"background: linear-gradient(90deg, #06b4bd, #de0942); padding: 0.45em 0.6em; margin: 0 0.25em; line-height: 1; border-radius: 0.35em;\">\n",
       "    far clever half\n",
       "    <span style=\"font-size: 0.8em; font-weight: bold; line-height: 1; border-radius: 0.35em; vertical-align: middle; margin-left: 0.5rem\">CARDINAL</span>\n",
       "</mark>\n",
       " howard film really series strung together moments spaces filled fantasies daydreams memories \n",
       "<mark class=\"entity\" style=\"background: linear-gradient(90deg, #06b4bd, #de0942); padding: 0.45em 0.6em; margin: 0 0.25em; line-height: 1; border-radius: 0.35em;\">\n",
       "    one\n",
       "    <span style=\"font-size: 0.8em; font-weight: bold; line-height: 1; border-radius: 0.35em; vertical-align: middle; margin-left: 0.5rem\">CARDINAL</span>\n",
       "</mark>\n",
       " fantastic visual trope another</div></span>"
      ],
      "text/plain": [
       "<IPython.core.display.HTML object>"
      ]
     },
     "metadata": {},
     "output_type": "display_data"
    },
    {
     "data": {
      "text/html": [
       "<span class=\"tex2jax_ignore\"><div class=\"entities\" style=\"line-height: 2.5; direction: ltr\">the problem movies angels tendency slip hokum</div></span>"
      ],
      "text/plain": [
       "<IPython.core.display.HTML object>"
      ]
     },
     "metadata": {},
     "output_type": "display_data"
    },
    {
     "data": {
      "text/html": [
       "<span class=\"tex2jax_ignore\"><div class=\"entities\" style=\"line-height: 2.5; direction: ltr\">a rumor angels n slip avalanches forced fuzziness</div></span>"
      ],
      "text/plain": [
       "<IPython.core.display.HTML object>"
      ]
     },
     "metadata": {},
     "output_type": "display_data"
    },
    {
     "data": {
      "text/html": [
       "<span class=\"tex2jax_ignore\"><div class=\"entities\" style=\"line-height: 2.5; direction: ltr\">no big whoop nothing new see \n",
       "<mark class=\"entity\" style=\"background: linear-gradient(90deg, #06b4bd, #de0942); padding: 0.45em 0.6em; margin: 0 0.25em; line-height: 1; border-radius: 0.35em;\">\n",
       "    zero\n",
       "    <span style=\"font-size: 0.8em; font-weight: bold; line-height: 1; border-radius: 0.35em; vertical-align: middle; margin-left: 0.5rem\">CARDINAL</span>\n",
       "</mark>\n",
       " thrills many flashbacks choppy ending make bad film</div></span>"
      ],
      "text/plain": [
       "<IPython.core.display.HTML object>"
      ]
     },
     "metadata": {},
     "output_type": "display_data"
    },
    {
     "data": {
      "text/html": [
       "<span class=\"tex2jax_ignore\"><div class=\"entities\" style=\"line-height: 2.5; direction: ltr\">i n think movie loves women</div></span>"
      ],
      "text/plain": [
       "<IPython.core.display.HTML object>"
      ]
     },
     "metadata": {},
     "output_type": "display_data"
    },
    {
     "data": {
      "text/html": [
       "<span class=\"tex2jax_ignore\"><div class=\"entities\" style=\"line-height: 2.5; direction: ltr\">shankman screenwriter \n",
       "<mark class=\"entity\" style=\"background: linear-gradient(90deg, #aa9cfc, #fc9ce7); padding: 0.45em 0.6em; margin: 0 0.25em; line-height: 1; border-radius: 0.35em;\">\n",
       "    karen janszen bungle\n",
       "    <span style=\"font-size: 0.8em; font-weight: bold; line-height: 1; border-radius: 0.35em; vertical-align: middle; margin-left: 0.5rem\">PERSON</span>\n",
       "</mark>\n",
       " way narrative series bible parables actual story</div></span>"
      ],
      "text/plain": [
       "<IPython.core.display.HTML object>"
      ]
     },
     "metadata": {},
     "output_type": "display_data"
    },
    {
     "data": {
      "text/html": [
       "<span class=\"tex2jax_ignore\"><div class=\"entities\" style=\"line-height: 2.5; direction: ltr\">a negligible \n",
       "<mark class=\"entity\" style=\"background: linear-gradient(90deg, #067dbd, #1206bd); padding: 0.45em 0.6em; margin: 0 0.25em; line-height: 1; border-radius: 0.35em;\">\n",
       "    british\n",
       "    <span style=\"font-size: 0.8em; font-weight: bold; line-height: 1; border-radius: 0.35em; vertical-align: middle; margin-left: 0.5rem\">NORP</span>\n",
       "</mark>\n",
       " comedy</div></span>"
      ],
      "text/plain": [
       "<IPython.core.display.HTML object>"
      ]
     },
     "metadata": {},
     "output_type": "display_data"
    },
    {
     "data": {
      "text/html": [
       "<span class=\"tex2jax_ignore\"><div class=\"entities\" style=\"line-height: 2.5; direction: ltr\">fails convince audience brats ever anything losers</div></span>"
      ],
      "text/plain": [
       "<IPython.core.display.HTML object>"
      ]
     },
     "metadata": {},
     "output_type": "display_data"
    },
    {
     "data": {
      "text/html": [
       "<span class=\"tex2jax_ignore\"><div class=\"entities\" style=\"line-height: 2.5; direction: ltr\">slack uninspired peopled mainly characters unsympathetic left sour taste mouth</div></span>"
      ],
      "text/plain": [
       "<IPython.core.display.HTML object>"
      ]
     },
     "metadata": {},
     "output_type": "display_data"
    },
    {
     "data": {
      "text/html": [
       "<span class=\"tex2jax_ignore\"><div class=\"entities\" style=\"line-height: 2.5; direction: ltr\">skip turd pick nose instead sure get latter experience</div></span>"
      ],
      "text/plain": [
       "<IPython.core.display.HTML object>"
      ]
     },
     "metadata": {},
     "output_type": "display_data"
    },
    {
     "data": {
      "text/html": [
       "<span class=\"tex2jax_ignore\"><div class=\"entities\" style=\"line-height: 2.5; direction: ltr\">what one say balding \n",
       "<mark class=\"entity\" style=\"background: linear-gradient(90deg, #34ebb4, #9c34eb); padding: 0.45em 0.6em; margin: 0 0.25em; line-height: 1; border-radius: 0.35em;\">\n",
       "    year\n",
       "    <span style=\"font-size: 0.8em; font-weight: bold; line-height: 1; border-radius: 0.35em; vertical-align: middle; margin-left: 0.5rem\">DATE</span>\n",
       "</mark>\n",
       " old actor playing innocent boy carved log</div></span>"
      ],
      "text/plain": [
       "<IPython.core.display.HTML object>"
      ]
     },
     "metadata": {},
     "output_type": "display_data"
    },
    {
     "data": {
      "text/html": [
       "<span class=\"tex2jax_ignore\"><div class=\"entities\" style=\"line-height: 2.5; direction: ltr\">trailer trash cinema uncool thing missing gadzooks</div></span>"
      ],
      "text/plain": [
       "<IPython.core.display.HTML object>"
      ]
     },
     "metadata": {},
     "output_type": "display_data"
    },
    {
     "data": {
      "text/html": [
       "<span class=\"tex2jax_ignore\"><div class=\"entities\" style=\"line-height: 2.5; direction: ltr\">her film like beautiful food entr e n heated properly ends bit cold relatively flavorless</div></span>"
      ],
      "text/plain": [
       "<IPython.core.display.HTML object>"
      ]
     },
     "metadata": {},
     "output_type": "display_data"
    },
    {
     "data": {
      "text/html": [
       "<span class=\"tex2jax_ignore\"><div class=\"entities\" style=\"line-height: 2.5; direction: ltr\">like world film hartley created monster n know handle</div></span>"
      ],
      "text/plain": [
       "<IPython.core.display.HTML object>"
      ]
     },
     "metadata": {},
     "output_type": "display_data"
    },
    {
     "data": {
      "text/html": [
       "<span class=\"tex2jax_ignore\"><div class=\"entities\" style=\"line-height: 2.5; direction: ltr\">no new plot conceptions environmental changes different bodies sharp objects rip</div></span>"
      ],
      "text/plain": [
       "<IPython.core.display.HTML object>"
      ]
     },
     "metadata": {},
     "output_type": "display_data"
    },
    {
     "data": {
      "text/html": [
       "<span class=\"tex2jax_ignore\"><div class=\"entities\" style=\"line-height: 2.5; direction: ltr\">needs impressionistic cinematography exhilarating point view shots fewer slow motion grandeur shots quick cut edits often detract athleticism</div></span>"
      ],
      "text/plain": [
       "<IPython.core.display.HTML object>"
      ]
     },
     "metadata": {},
     "output_type": "display_data"
    },
    {
     "data": {
      "text/html": [
       "<span class=\"tex2jax_ignore\"><div class=\"entities\" style=\"line-height: 2.5; direction: ltr\">in end n much</div></span>"
      ],
      "text/plain": [
       "<IPython.core.display.HTML object>"
      ]
     },
     "metadata": {},
     "output_type": "display_data"
    },
    {
     "data": {
      "text/html": [
       "<span class=\"tex2jax_ignore\"><div class=\"entities\" style=\"line-height: 2.5; direction: ltr\">a waste fearless purity acting craft</div></span>"
      ],
      "text/plain": [
       "<IPython.core.display.HTML object>"
      ]
     },
     "metadata": {},
     "output_type": "display_data"
    },
    {
     "data": {
      "text/html": [
       "<span class=\"tex2jax_ignore\"><div class=\"entities\" style=\"line-height: 2.5; direction: ltr\">the film ultimately inspiring hallmark card</div></span>"
      ],
      "text/plain": [
       "<IPython.core.display.HTML object>"
      ]
     },
     "metadata": {},
     "output_type": "display_data"
    },
    {
     "data": {
      "text/html": [
       "<span class=\"tex2jax_ignore\"><div class=\"entities\" style=\"line-height: 2.5; direction: ltr\">anyone high tech splatterfests advised take warning literally log something user friendly</div></span>"
      ],
      "text/plain": [
       "<IPython.core.display.HTML object>"
      ]
     },
     "metadata": {},
     "output_type": "display_data"
    },
    {
     "data": {
      "text/html": [
       "<span class=\"tex2jax_ignore\"><div class=\"entities\" style=\"line-height: 2.5; direction: ltr\">disreputable doings exquisite trappings dampened lackluster script substandard performances</div></span>"
      ],
      "text/plain": [
       "<IPython.core.display.HTML object>"
      ]
     },
     "metadata": {},
     "output_type": "display_data"
    },
    {
     "data": {
      "text/html": [
       "<span class=\"tex2jax_ignore\"><div class=\"entities\" style=\"line-height: 2.5; direction: ltr\">you could easily mistake sketchy work progress inexplicably rushed megaplexes time</div></span>"
      ],
      "text/plain": [
       "<IPython.core.display.HTML object>"
      ]
     },
     "metadata": {},
     "output_type": "display_data"
    },
    {
     "data": {
      "text/html": [
       "<span class=\"tex2jax_ignore\"><div class=\"entities\" style=\"line-height: 2.5; direction: ltr\">directors \n",
       "<mark class=\"entity\" style=\"background: linear-gradient(90deg, #aa9cfc, #fc9ce7); padding: 0.45em 0.6em; margin: 0 0.25em; line-height: 1; border-radius: 0.35em;\">\n",
       "    harry gantz\n",
       "    <span style=\"font-size: 0.8em; font-weight: bold; line-height: 1; border-radius: 0.35em; vertical-align: middle; margin-left: 0.5rem\">PERSON</span>\n",
       "</mark>\n",
       " \n",
       "<mark class=\"entity\" style=\"background: linear-gradient(90deg, #aa9cfc, #fc9ce7); padding: 0.45em 0.6em; margin: 0 0.25em; line-height: 1; border-radius: 0.35em;\">\n",
       "    joe gantz chosen\n",
       "    <span style=\"font-size: 0.8em; font-weight: bold; line-height: 1; border-radius: 0.35em; vertical-align: middle; margin-left: 0.5rem\">PERSON</span>\n",
       "</mark>\n",
       " fascinating subject matter couples exposing n interesting</div></span>"
      ],
      "text/plain": [
       "<IPython.core.display.HTML object>"
      ]
     },
     "metadata": {},
     "output_type": "display_data"
    },
    {
     "data": {
      "text/html": [
       "<span class=\"tex2jax_ignore\"><div class=\"entities\" style=\"line-height: 2.5; direction: ltr\">yet another entry sentimental oh wacky brits genre ushered the full monty still straining produce another smash hit</div></span>"
      ],
      "text/plain": [
       "<IPython.core.display.HTML object>"
      ]
     },
     "metadata": {},
     "output_type": "display_data"
    },
    {
     "data": {
      "text/html": [
       "<span class=\"tex2jax_ignore\"><div class=\"entities\" style=\"line-height: 2.5; direction: ltr\">name woody allen guarantee something fresh sometimes funny usually genuinely worthwhile hollywood ending depressing experience</div></span>"
      ],
      "text/plain": [
       "<IPython.core.display.HTML object>"
      ]
     },
     "metadata": {},
     "output_type": "display_data"
    },
    {
     "data": {
      "text/html": [
       "<span class=\"tex2jax_ignore\"><div class=\"entities\" style=\"line-height: 2.5; direction: ltr\">femme fatale offers nothing bait switch beyond playing fair audience</div></span>"
      ],
      "text/plain": [
       "<IPython.core.display.HTML object>"
      ]
     },
     "metadata": {},
     "output_type": "display_data"
    },
    {
     "data": {
      "text/html": [
       "<span class=\"tex2jax_ignore\"><div class=\"entities\" style=\"line-height: 2.5; direction: ltr\">are dealing dreams visions told actually happened third ending clue</div></span>"
      ],
      "text/plain": [
       "<IPython.core.display.HTML object>"
      ]
     },
     "metadata": {},
     "output_type": "display_data"
    },
    {
     "data": {
      "text/html": [
       "<span class=\"tex2jax_ignore\"><div class=\"entities\" style=\"line-height: 2.5; direction: ltr\">it could something special \n",
       "<mark class=\"entity\" style=\"background: linear-gradient(90deg, #06b4bd, #de0942); padding: 0.45em 0.6em; margin: 0 0.25em; line-height: 1; border-radius: 0.35em;\">\n",
       "    two\n",
       "    <span style=\"font-size: 0.8em; font-weight: bold; line-height: 1; border-radius: 0.35em; vertical-align: middle; margin-left: 0.5rem\">CARDINAL</span>\n",
       "</mark>\n",
       " things drag mediocrity director clare \n",
       "<mark class=\"entity\" style=\"background: linear-gradient(90deg, #eb3d34, #ebe834); padding: 0.45em 0.6em; margin: 0 0.25em; line-height: 1; border-radius: 0.35em;\">\n",
       "    peploe misunderstanding marivaux rhythms mira sorvino limitations classical actress\n",
       "    <span style=\"font-size: 0.8em; font-weight: bold; line-height: 1; border-radius: 0.35em; vertical-align: middle; margin-left: 0.5rem\">ORG</span>\n",
       "</mark>\n",
       "</div></span>"
      ],
      "text/plain": [
       "<IPython.core.display.HTML object>"
      ]
     },
     "metadata": {},
     "output_type": "display_data"
    },
    {
     "data": {
      "text/html": [
       "<span class=\"tex2jax_ignore\"><div class=\"entities\" style=\"line-height: 2.5; direction: ltr\">fluffy neo noir hiding behind cutesy film references</div></span>"
      ],
      "text/plain": [
       "<IPython.core.display.HTML object>"
      ]
     },
     "metadata": {},
     "output_type": "display_data"
    },
    {
     "data": {
      "text/html": [
       "<span class=\"tex2jax_ignore\"><div class=\"entities\" style=\"line-height: 2.5; direction: ltr\">imagine susan sontag falling love \n",
       "<mark class=\"entity\" style=\"background: linear-gradient(90deg, #aa9cfc, #fc9ce7); padding: 0.45em 0.6em; margin: 0 0.25em; line-height: 1; border-radius: 0.35em;\">\n",
       "    howard stern\n",
       "    <span style=\"font-size: 0.8em; font-weight: bold; line-height: 1; border-radius: 0.35em; vertical-align: middle; margin-left: 0.5rem\">PERSON</span>\n",
       "</mark>\n",
       "</div></span>"
      ],
      "text/plain": [
       "<IPython.core.display.HTML object>"
      ]
     },
     "metadata": {},
     "output_type": "display_data"
    },
    {
     "data": {
      "text/html": [
       "<span class=\"tex2jax_ignore\"><div class=\"entities\" style=\"line-height: 2.5; direction: ltr\">like trapped inside huge video game exciting inane images keep popping past head illogical things keep happening</div></span>"
      ],
      "text/plain": [
       "<IPython.core.display.HTML object>"
      ]
     },
     "metadata": {},
     "output_type": "display_data"
    },
    {
     "data": {
      "text/html": [
       "<span class=\"tex2jax_ignore\"><div class=\"entities\" style=\"line-height: 2.5; direction: ltr\">should worth cheering breakthrough devoid wit humor</div></span>"
      ],
      "text/plain": [
       "<IPython.core.display.HTML object>"
      ]
     },
     "metadata": {},
     "output_type": "display_data"
    },
    {
     "data": {
      "text/html": [
       "<span class=\"tex2jax_ignore\"><div class=\"entities\" style=\"line-height: 2.5; direction: ltr\">the best thing movie personable amusing cast</div></span>"
      ],
      "text/plain": [
       "<IPython.core.display.HTML object>"
      ]
     },
     "metadata": {},
     "output_type": "display_data"
    },
    {
     "data": {
      "text/html": [
       "<span class=\"tex2jax_ignore\"><div class=\"entities\" style=\"line-height: 2.5; direction: ltr\">these guys seem great knock back beer simply funny performers</div></span>"
      ],
      "text/plain": [
       "<IPython.core.display.HTML object>"
      ]
     },
     "metadata": {},
     "output_type": "display_data"
    },
    {
     "data": {
      "text/html": [
       "<span class=\"tex2jax_ignore\"><div class=\"entities\" style=\"line-height: 2.5; direction: ltr\">everything superficial forced \n",
       "<mark class=\"entity\" style=\"background: linear-gradient(90deg, #eb34d9, #bd0636); padding: 0.45em 0.6em; margin: 0 0.25em; line-height: 1; border-radius: 0.35em;\">\n",
       "    new jersey\n",
       "    <span style=\"font-size: 0.8em; font-weight: bold; line-height: 1; border-radius: 0.35em; vertical-align: middle; margin-left: 0.5rem\">GPE</span>\n",
       "</mark>\n",
       " lowbrow accent uma</div></span>"
      ],
      "text/plain": [
       "<IPython.core.display.HTML object>"
      ]
     },
     "metadata": {},
     "output_type": "display_data"
    },
    {
     "data": {
      "text/html": [
       "<span class=\"tex2jax_ignore\"><div class=\"entities\" style=\"line-height: 2.5; direction: ltr\">director \n",
       "<mark class=\"entity\" style=\"background: linear-gradient(90deg, #aa9cfc, #fc9ce7); padding: 0.45em 0.6em; margin: 0 0.25em; line-height: 1; border-radius: 0.35em;\">\n",
       "    david fincher\n",
       "    <span style=\"font-size: 0.8em; font-weight: bold; line-height: 1; border-radius: 0.35em; vertical-align: middle; margin-left: 0.5rem\">PERSON</span>\n",
       "</mark>\n",
       " writer \n",
       "<mark class=\"entity\" style=\"background: linear-gradient(90deg, #aa9cfc, #fc9ce7); padding: 0.45em 0.6em; margin: 0 0.25em; line-height: 1; border-radius: 0.35em;\">\n",
       "    david koepp\n",
       "    <span style=\"font-size: 0.8em; font-weight: bold; line-height: 1; border-radius: 0.35em; vertical-align: middle; margin-left: 0.5rem\">PERSON</span>\n",
       "</mark>\n",
       " ca n sustain</div></span>"
      ],
      "text/plain": [
       "<IPython.core.display.HTML object>"
      ]
     },
     "metadata": {},
     "output_type": "display_data"
    },
    {
     "data": {
      "text/html": [
       "<span class=\"tex2jax_ignore\"><div class=\"entities\" style=\"line-height: 2.5; direction: ltr\">finally coming miramax deep shelves couple aborted attempts waking up reno makes strong case letting sleeping dogs lie</div></span>"
      ],
      "text/plain": [
       "<IPython.core.display.HTML object>"
      ]
     },
     "metadata": {},
     "output_type": "display_data"
    },
    {
     "data": {
      "text/html": [
       "<span class=\"tex2jax_ignore\"><div class=\"entities\" style=\"line-height: 2.5; direction: ltr\">a movie feels like pilot episode new teen targeted action tv series</div></span>"
      ],
      "text/plain": [
       "<IPython.core.display.HTML object>"
      ]
     },
     "metadata": {},
     "output_type": "display_data"
    },
    {
     "data": {
      "text/html": [
       "<span class=\"tex2jax_ignore\"><div class=\"entities\" style=\"line-height: 2.5; direction: ltr\">\n",
       "<mark class=\"entity\" style=\"background: linear-gradient(90deg, #06b4bd, #de0942); padding: 0.45em 0.6em; margin: 0 0.25em; line-height: 1; border-radius: 0.35em;\">\n",
       "    one\n",
       "    <span style=\"font-size: 0.8em; font-weight: bold; line-height: 1; border-radius: 0.35em; vertical-align: middle; margin-left: 0.5rem\">CARDINAL</span>\n",
       "</mark>\n",
       " highly praised disappointments i misfortune watch quite time</div></span>"
      ],
      "text/plain": [
       "<IPython.core.display.HTML object>"
      ]
     },
     "metadata": {},
     "output_type": "display_data"
    },
    {
     "data": {
      "text/html": [
       "<span class=\"tex2jax_ignore\"><div class=\"entities\" style=\"line-height: 2.5; direction: ltr\">the animation backdrops lush inventive yet return neverland never manages take us elusive lovely place suspend disbelief</div></span>"
      ],
      "text/plain": [
       "<IPython.core.display.HTML object>"
      ]
     },
     "metadata": {},
     "output_type": "display_data"
    },
    {
     "data": {
      "text/html": [
       "<span class=\"tex2jax_ignore\"><div class=\"entities\" style=\"line-height: 2.5; direction: ltr\">director \n",
       "<mark class=\"entity\" style=\"background: linear-gradient(90deg, #aa9cfc, #fc9ce7); padding: 0.45em 0.6em; margin: 0 0.25em; line-height: 1; border-radius: 0.35em;\">\n",
       "    shekhar kapur screenwriters\n",
       "    <span style=\"font-size: 0.8em; font-weight: bold; line-height: 1; border-radius: 0.35em; vertical-align: middle; margin-left: 0.5rem\">PERSON</span>\n",
       "</mark>\n",
       " \n",
       "<mark class=\"entity\" style=\"background: linear-gradient(90deg, #aa9cfc, #fc9ce7); padding: 0.45em 0.6em; margin: 0 0.25em; line-height: 1; border-radius: 0.35em;\">\n",
       "    michael schiffer hossein\n",
       "    <span style=\"font-size: 0.8em; font-weight: bold; line-height: 1; border-radius: 0.35em; vertical-align: middle; margin-left: 0.5rem\">PERSON</span>\n",
       "</mark>\n",
       " amini tried hard modernize reconceptualize things barriers finally prove great</div></span>"
      ],
      "text/plain": [
       "<IPython.core.display.HTML object>"
      ]
     },
     "metadata": {},
     "output_type": "display_data"
    },
    {
     "data": {
      "text/html": [
       "<span class=\"tex2jax_ignore\"><div class=\"entities\" style=\"line-height: 2.5; direction: ltr\">strong filmmaking requires clear sense purpose oh important category the \n",
       "<mark class=\"entity\" style=\"background: linear-gradient(90deg, #06b4bd, #de0942); padding: 0.45em 0.6em; margin: 0 0.25em; line-height: 1; border-radius: 0.35em;\">\n",
       "    four\n",
       "    <span style=\"font-size: 0.8em; font-weight: bold; line-height: 1; border-radius: 0.35em; vertical-align: middle; margin-left: 0.5rem\">CARDINAL</span>\n",
       "</mark>\n",
       " feathers comes short</div></span>"
      ],
      "text/plain": [
       "<IPython.core.display.HTML object>"
      ]
     },
     "metadata": {},
     "output_type": "display_data"
    },
    {
     "data": {
      "text/html": [
       "<span class=\"tex2jax_ignore\"><div class=\"entities\" style=\"line-height: 2.5; direction: ltr\">the thought watching film audience full teenagers fixating body humour reinforcement stereotypes lrb get plenty rrb fills revulsion</div></span>"
      ],
      "text/plain": [
       "<IPython.core.display.HTML object>"
      ]
     },
     "metadata": {},
     "output_type": "display_data"
    },
    {
     "data": {
      "text/html": [
       "<span class=\"tex2jax_ignore\"><div class=\"entities\" style=\"line-height: 2.5; direction: ltr\">devolves derivative leaning badly rendered cgi effects</div></span>"
      ],
      "text/plain": [
       "<IPython.core.display.HTML object>"
      ]
     },
     "metadata": {},
     "output_type": "display_data"
    },
    {
     "data": {
      "text/html": [
       "<span class=\"tex2jax_ignore\"><div class=\"entities\" style=\"line-height: 2.5; direction: ltr\">anyone gets chills movies giant plot holes find plenty shake shiver the ring</div></span>"
      ],
      "text/plain": [
       "<IPython.core.display.HTML object>"
      ]
     },
     "metadata": {},
     "output_type": "display_data"
    },
    {
     "data": {
      "text/html": [
       "<span class=\"tex2jax_ignore\"><div class=\"entities\" style=\"line-height: 2.5; direction: ltr\">a grand fart coming director beginning resemble someone crazy \n",
       "<mark class=\"entity\" style=\"background: linear-gradient(90deg, #067dbd, #1206bd); padding: 0.45em 0.6em; margin: 0 0.25em; line-height: 1; border-radius: 0.35em;\">\n",
       "    french\n",
       "    <span style=\"font-size: 0.8em; font-weight: bold; line-height: 1; border-radius: 0.35em; vertical-align: middle; margin-left: 0.5rem\">NORP</span>\n",
       "</mark>\n",
       " grandfather</div></span>"
      ],
      "text/plain": [
       "<IPython.core.display.HTML object>"
      ]
     },
     "metadata": {},
     "output_type": "display_data"
    },
    {
     "data": {
      "text/html": [
       "<span class=\"tex2jax_ignore\"><div class=\"entities\" style=\"line-height: 2.5; direction: ltr\">the script disaster cloying messages irksome characters</div></span>"
      ],
      "text/plain": [
       "<IPython.core.display.HTML object>"
      ]
     },
     "metadata": {},
     "output_type": "display_data"
    },
    {
     "data": {
      "text/html": [
       "<span class=\"tex2jax_ignore\"><div class=\"entities\" style=\"line-height: 2.5; direction: ltr\">overstuffed undernourished the film ca n called solid success although plenty evidence indicate clooney might better luck next time</div></span>"
      ],
      "text/plain": [
       "<IPython.core.display.HTML object>"
      ]
     },
     "metadata": {},
     "output_type": "display_data"
    },
    {
     "data": {
      "text/html": [
       "<span class=\"tex2jax_ignore\"><div class=\"entities\" style=\"line-height: 2.5; direction: ltr\">plods along minus twisted humor eye popping visuals made miike cult hero</div></span>"
      ],
      "text/plain": [
       "<IPython.core.display.HTML object>"
      ]
     },
     "metadata": {},
     "output_type": "display_data"
    },
    {
     "data": {
      "text/html": [
       "<span class=\"tex2jax_ignore\"><div class=\"entities\" style=\"line-height: 2.5; direction: ltr\">\n",
       "<mark class=\"entity\" style=\"background: linear-gradient(90deg, #eb34d9, #bd0636); padding: 0.45em 0.6em; margin: 0 0.25em; line-height: 1; border-radius: 0.35em;\">\n",
       "    hollywood\n",
       "    <span style=\"font-size: 0.8em; font-weight: bold; line-height: 1; border-radius: 0.35em; vertical-align: middle; margin-left: 0.5rem\">GPE</span>\n",
       "</mark>\n",
       " taken quite nosedive alfred hitchcock imaginative flight shyamalan self important \n",
       "<mark class=\"entity\" style=\"background: linear-gradient(90deg, #34ebb4, #9c34eb); padding: 0.45em 0.6em; margin: 0 0.25em; line-height: 1; border-radius: 0.35em;\">\n",
       "    summer\n",
       "    <span style=\"font-size: 0.8em; font-weight: bold; line-height: 1; border-radius: 0.35em; vertical-align: middle; margin-left: 0.5rem\">DATE</span>\n",
       "</mark>\n",
       " fluff</div></span>"
      ],
      "text/plain": [
       "<IPython.core.display.HTML object>"
      ]
     },
     "metadata": {},
     "output_type": "display_data"
    },
    {
     "data": {
      "text/html": [
       "<span class=\"tex2jax_ignore\"><div class=\"entities\" style=\"line-height: 2.5; direction: ltr\">the film maudlin focus young woman infirmity naive dreams play like worst kind hollywood heart string plucking</div></span>"
      ],
      "text/plain": [
       "<IPython.core.display.HTML object>"
      ]
     },
     "metadata": {},
     "output_type": "display_data"
    },
    {
     "data": {
      "text/html": [
       "<span class=\"tex2jax_ignore\"><div class=\"entities\" style=\"line-height: 2.5; direction: ltr\">i firmly believe good video game movie going show soon</div></span>"
      ],
      "text/plain": [
       "<IPython.core.display.HTML object>"
      ]
     },
     "metadata": {},
     "output_type": "display_data"
    },
    {
     "data": {
      "text/html": [
       "<span class=\"tex2jax_ignore\"><div class=\"entities\" style=\"line-height: 2.5; direction: ltr\">i also believe resident evil</div></span>"
      ],
      "text/plain": [
       "<IPython.core.display.HTML object>"
      ]
     },
     "metadata": {},
     "output_type": "display_data"
    },
    {
     "data": {
      "text/html": [
       "<span class=\"tex2jax_ignore\"><div class=\"entities\" style=\"line-height: 2.5; direction: ltr\">it air surprisingly juvenile lark pop influenced prank whose charms immediately apparent wear thin repetition</div></span>"
      ],
      "text/plain": [
       "<IPython.core.display.HTML object>"
      ]
     },
     "metadata": {},
     "output_type": "display_data"
    },
    {
     "data": {
      "text/html": [
       "<span class=\"tex2jax_ignore\"><div class=\"entities\" style=\"line-height: 2.5; direction: ltr\">the plot meanders gripping plodding back</div></span>"
      ],
      "text/plain": [
       "<IPython.core.display.HTML object>"
      ]
     },
     "metadata": {},
     "output_type": "display_data"
    },
    {
     "data": {
      "text/html": [
       "<span class=\"tex2jax_ignore\"><div class=\"entities\" style=\"line-height: 2.5; direction: ltr\">this cruel misanthropic stuff weak claims surrealism black comedy</div></span>"
      ],
      "text/plain": [
       "<IPython.core.display.HTML object>"
      ]
     },
     "metadata": {},
     "output_type": "display_data"
    },
    {
     "data": {
      "text/html": [
       "<span class=\"tex2jax_ignore\"><div class=\"entities\" style=\"line-height: 2.5; direction: ltr\">no amount nostalgia carvey glory \n",
       "<mark class=\"entity\" style=\"background: linear-gradient(90deg, #34ebb4, #9c34eb); padding: 0.45em 0.6em; margin: 0 0.25em; line-height: 1; border-radius: 0.35em;\">\n",
       "    days\n",
       "    <span style=\"font-size: 0.8em; font-weight: bold; line-height: 1; border-radius: 0.35em; vertical-align: middle; margin-left: 0.5rem\">DATE</span>\n",
       "</mark>\n",
       " disguise fact new film lame kiddie flick carvey considerable talents wasted</div></span>"
      ],
      "text/plain": [
       "<IPython.core.display.HTML object>"
      ]
     },
     "metadata": {},
     "output_type": "display_data"
    }
   ],
   "source": [
    "# POS tagging\n",
    "\n",
    "for i in range(100):\n",
    "    doc = nlp(sentence_samples_processed[\"sentence\"][i])\n",
    "    displacy.render(doc, style='ent', jupyter=True, options = options)"
   ]
  },
  {
   "cell_type": "code",
   "execution_count": 172,
   "id": "a9ce642f",
   "metadata": {},
   "outputs": [
    {
     "data": {
      "text/plain": [
       "<Figure size 2000x1000 with 0 Axes>"
      ]
     },
     "metadata": {},
     "output_type": "display_data"
    },
    {
     "data": {
      "image/png": "[encoded data removed]",
      "text/plain": [
       "<Figure size 640x480 with 9 Axes>"
      ]
     },
     "metadata": {},
     "output_type": "display_data"
    }
   ],
   "source": [
    "plt.figure(figsize=(20, 10))\n",
    "fig, ax = plt.subplots(3, 3)\n",
    "plt.axis(\"off\")\n",
    "for i in range(3):\n",
    "    for j in range(3):\n",
    "        text = sentence_samples_processed[\"sentence\"][3*i + j]\n",
    "        wordcloud = WordCloud(width=800, height=400, background_color=\"black\").generate(text)\n",
    "        ax[i,j].imshow(wordcloud, interpolation=\"bilinear\")\n",
    "plt.show()"
   ]
  },
  {
   "cell_type": "code",
   "execution_count": null,
   "id": "179ae7da",
   "metadata": {},
   "outputs": [
    {
     "name": "stdout",
     "output_type": "stream",
     "text": [
      "Aunque Barbershop cuenta con algunos de los actos más populares y modernos de hoy en el mundo de la televisión, la música y la comedia de pie, esta película extrañamente tiene la arrogancia desactualizada de una descarada incompleta de la comedia de sitios de los años 70 blaxploitation.\n",
      "Un rompecabezas cuyas piezas no encajan.\n",
      "Algunos son fascinantes y otros no, y al final, es casi una buena película.\n",
      "¿Ese Greengrass había sido un poco menos para la arena y mucho más por la inteligibilidad?\n",
      "Lo bueno es muy, muy bueno ... el resto funciona de un poco impresionante a desesperadamente horrible.\n",
      "'Butterfingered' es la palabra para la dirección de Jez Butterworth, que logra explotar incluso las sensibilidades más pequeñas del romance con su enfoque clamoroso.\n",
      "Tenga cuidado, si está deprimido por algo antes de ver esta película, es posible que termine tratando de ahogarse en un lago después.\n",
      "Una terrible adaptación de una obra que solo caminó por la delicada cuerda floja entre lastre y repugnantes.\n",
      "En las manos equivocadas, es decir, Peploe, es simplemente insoportable\n",
      "Un director inexperto, Mehta tiene mucho que aprender.\n",
      "Un vehículo flojo de Eddie Murphy del que incluso él parece avergonzado de ser parte.\n",
      "Tan confuso, repetitivo y irregular que dice mucho menos sobre la horrible realidad histórica que sobre el estilo característico del cineasta.\n",
      "Un episodio chispeante de `` m \\* a \\* s \\* h '' solo esta vez desde una perspectiva asiática.\n",
      "`` Buscando a Leonard '' parece sentarse en neutral, con la esperanza de que un viento rígido lo sople cuesta arriba o algo así.\n",
      "Nada de cuatro o cinco risas suaves rodeadas por 86 minutos de comedia demasiado familiar y mal construida.\n",
      "Definitivamente en la categoría de la película B de placer culpable, Reign of Fire es tan increíblemente inanitado que es risueño.\n",
      "La buena pero implacablemente baja salida de poca brecha como CluisSess Does South Fork.\n",
      "lo suficientemente entretenido, pero nada nuevo\n",
      "... una resurrección demasiada.\n",
      "Esta es una película sobre la naturaleza molesta y agotadora de la complacencia que sigue completamente satisfecha de seguir siendo la misma en todo momento.\n",
      "Incluso cuando el héroe de la historia redescubre su pasión en la vida, el estado de ánimo permanece extrañamente separado.\n",
      "DeMeo no está exento de talento; Solo necesita mejor material.\n",
      "A pesar de presentar un guión acreditado a no menos de cinco escritores, aparentemente nadie aquí se molestó en comprobarlo dos veces.\n",
      "Nadie involucrado, Save Dash, muestra la más mínima aptitud para la actuación, y el guión, acreditado al director Abdul Malik Abbott y Ernest 'Tron' Anderson, parece completamente improvisado.\n",
      "Inicialmente apasionante, eventualmente empalagando el drama de POW.\n",
      "Un tímido, empapado cerca de la señorita.\n",
      "Funciona mejor en la concepción que en la ejecución ... termina pareciendo un poco demasiado inteligente.\n",
      "Para la gran mayoría de los películas más casuales, probablemente será un aburrido.\n",
      "La inteligencia observadora constantemente compite con la pretensión, y a veces una ingredacibilidad simple y extraña, en toda la vorágine.\n",
      "Esta versión de H.G. Wells 'Time Machine fue dirigida por el bisnieto de H.G. Wells.\n",
      "Deberían haber encontrado el bisnieto de Orson Welles.\n",
      "All About Lily Chou Chou de Shunji Iwai es una película bellamente filmada, pero finalmente defectuosa sobre el crecimiento en Japón.\n",
      "Con más desarrollo del personaje, este podría haber sido un misterioso thriller; Con mejores pagos, podría haber sido la película de monstruos de un hombre de pensamiento.\n",
      "El debut como director de thriller para el escriba de tráfico Gaghan tiene todas las partes correctas, pero las piezas no se ajustan del todo.\n",
      "... sería una pérdida total si no fuera por dos actuaciones de apoyo que tienen lugar en los bordes de la película.\n",
      "No hay un solo momento de salto en el asiento y lo creas o no, Jason en realidad pasa a un segundo plano en su propia película a efectos especiales.\n",
      "Goldbacher se basa en un sentido visual elegante y un talento para un ritmo fácil y seductor ... pero ella y su compañera de escritura Laurence Coriat no manejan una moneda narrativa igualmente asegurada.\n"
     ]
    }
   ],
   "source": [
    "for i in range(100):\n",
    "    text = sentence_samples[\"sentence\"][i]\n",
    "    blob = TextBlob(text)\n",
    "    translated_blob = blob.translate('en', 'es')\n",
    "    print(translated_blob)"
   ]
  },
  {
   "cell_type": "code",
   "execution_count": 91,
   "id": "2d847704",
   "metadata": {},
   "outputs": [
    {
     "name": "stdout",
     "output_type": "stream",
     "text": [
      "Although Barbershop boasts some of today 's hottest and hippest acts from the world of television , music and stand-up comedy , this movie strangely enough has the outdated swagger of a shameless ` 70s blaxploitation shuck-and-jive sitcom .\n",
      "('acts', 'NNS')\n",
      "('although', 'IN')\n",
      "('barbershop', 'NN')\n",
      "('blaxploitation', 'NN')\n",
      "('boasts', 'NNS')\n",
      "('comedy', 'NN')\n",
      "('enough', 'RB')\n",
      "('hippest', 'JJS')\n",
      "('hottest', 'VBP')\n",
      "('jive', 'JJ')\n",
      "('movie', 'NN')\n",
      "('music', 'NN')\n",
      "('outdated', 'JJ')\n",
      "('shameless', 'JJ')\n",
      "('shuck', 'VBD')\n",
      "('sitcom', 'NN')\n",
      "('stand', 'VBP')\n",
      "('strangely', 'RB')\n",
      "('swagger', 'JJR')\n",
      "('television', 'NN')\n",
      "('today', 'NN')\n",
      "('world', 'NN')\n",
      "\n",
      "A puzzle whose pieces do not fit .\n",
      "('fit', 'VBP')\n",
      "('pieces', 'NNS')\n",
      "('puzzle', 'NN')\n",
      "('whose', 'WP$')\n",
      "\n",
      "Some are fascinating and others are not , and in the end , it is almost a good movie .\n",
      "('almost', 'RB')\n",
      "('end', 'VBP')\n",
      "('fascinating', 'VBG')\n",
      "('good', 'JJ')\n",
      "('movie', 'NN')\n",
      "('others', 'NNS')\n",
      "\n",
      "Would that Greengrass had gone a tad less for grit and a lot more for intelligibility .\n",
      "('gone', 'VBN')\n",
      "('greengrass', 'VB')\n",
      "('grit', 'JJ')\n",
      "('intelligibility', 'NN')\n",
      "('less', 'RBR')\n",
      "('lot', 'NN')\n",
      "('tad', 'RB')\n",
      "('would', 'MD')\n",
      "\n",
      "The good is very , very good ... The rest runs from mildly unimpressive to despairingly awful .\n",
      "('awful', 'JJ')\n",
      "('despairingly', 'RB')\n",
      "('good', 'JJ')\n",
      "('mildly', 'RB')\n",
      "('rest', 'NN')\n",
      "('runs', 'NNS')\n",
      "('unimpressive', 'JJ')\n",
      "\n",
      "` Butterfingered ' is the word for the big-fisted direction of Jez Butterworth , who manages to blast even the smallest sensitivities from the romance with his clamorous approach .\n",
      "('approach', 'NN')\n",
      "('big', 'JJ')\n",
      "('blast', 'RB')\n",
      "('butterfingered', 'VBN')\n",
      "('butterworth', 'NN')\n",
      "('clamorous', 'JJ')\n",
      "('direction', 'NN')\n",
      "('even', 'RB')\n",
      "('fisted', 'VBN')\n",
      "('jez', 'NN')\n",
      "('manages', 'VBZ')\n",
      "('romance', 'VBP')\n",
      "('sensitivities', 'NNS')\n",
      "('smallest', 'JJS')\n",
      "('word', 'NN')\n",
      "\n",
      "Be forewarned , if you 're depressed about anything before watching this film , you may just end up trying to drown yourself in a lake afterwards .\n",
      "('afterwards', 'NNS')\n",
      "('anything', 'NN')\n",
      "('depressed', 'VBD')\n",
      "('drown', 'JJ')\n",
      "('end', 'VB')\n",
      "('film', 'NN')\n",
      "('forewarned', 'VBN')\n",
      "('lake', 'NN')\n",
      "('may', 'MD')\n",
      "('trying', 'VBG')\n",
      "('watching', 'VBG')\n",
      "\n",
      "a terrible adaptation of a play that only ever walked the delicate tightrope between farcical and loathsome .\n",
      "('adaptation', 'NN')\n",
      "('delicate', 'JJ')\n",
      "('ever', 'RB')\n",
      "('farcical', 'JJ')\n",
      "('loathsome', 'NN')\n",
      "('play', 'NN')\n",
      "('terrible', 'JJ')\n",
      "('tightrope', 'NN')\n",
      "('walked', 'VBD')\n",
      "\n",
      "In the wrong hands , i.e. Peploe 's , it 's simply unbearable\n",
      "('e', 'VBP')\n",
      "('hands', 'NNS')\n",
      "('peploe', 'NN')\n",
      "('simply', 'RB')\n",
      "('unbearable', 'JJ')\n",
      "('wrong', 'JJ')\n",
      "\n",
      "An inexperienced director , Mehta has much to learn .\n",
      "('director', 'NN')\n",
      "('inexperienced', 'JJ')\n",
      "('learn', 'NN')\n",
      "('mehta', 'VBD')\n",
      "('much', 'RB')\n",
      "\n"
     ]
    }
   ],
   "source": [
    "for i in range(10):\n",
    "    words = word_tokenize(sentence_samples_processed[\"sentence\"][i])\n",
    "    print(sentence_samples[\"sentence\"][i])\n",
    "    for j in sorted(list(set(nltk.pos_tag(words)))): print(j)\n",
    "    print()"
   ]
  },
  {
   "cell_type": "code",
   "execution_count": null,
   "id": "4ce4d543",
   "metadata": {},
   "outputs": [],
   "source": [
    "text = \". \".join(sentence_samples[\"sentence\"][:])\n",
    "text = [nltk.word_tokenize(sent) for sent in nltk.sent_tokenize(text)]\n",
    "model = gensim.models.Word2Vec(window=10, sg=1, hs=0, negative=10, alpha=0.03, min_alpha=0.0007, seed=4)\n",
    "model.build_vocab(text, progress_per=200)\n",
    "model.train(text, total_examples=model.corpus_count, epochs=10, report_delay=1)\n",
    "\n",
    "print(\"Similarity of 'film', 'movie': %s\" % model.wv.similarity(\"film\", \"movie\"))"
   ]
  },
  {
   "cell_type": "code",
   "execution_count": null,
   "id": "77625d77",
   "metadata": {},
   "outputs": [],
   "source": [
    "text = word_tokenize(\" \".join(sentence_samples_processed[\"sentence\"]))\n",
    "\n",
    "fdist = FreqDist(text)\n",
    "print(\"Most common words (with #):\")\n",
    "for i in fdist.most_common(10): print(i)\n",
    "fdist.plot(10)\n",
    "plt.show()"
   ]
  },
  {
   "cell_type": "code",
   "execution_count": 69,
   "id": "8e6e0612",
   "metadata": {},
   "outputs": [
    {
     "name": "stderr",
     "output_type": "stream",
     "text": [
      "All PyTorch model weights were used when initializing TFBertForSequenceClassification.\n",
      "\n",
      "Some weights or buffers of the TF 2.0 model TFBertForSequenceClassification were not initialized from the PyTorch model and are newly initialized: ['classifier.weight', 'classifier.bias']\n",
      "You should probably TRAIN this model on a down-stream task to be able to use it for predictions and inference.\n"
     ]
    }
   ],
   "source": [
    "model_name = \"bert-base-uncased\"\n",
    "tokenizer = BertTokenizer.from_pretrained(model_name)\n",
    "model = TFBertForSequenceClassification.from_pretrained(model_name)\n",
    "\n",
    "# Create a function to analyze sentiment\n",
    "def analyze_sentiment(sentence):\n",
    "    # Tokenize the input text\n",
    "    inputs = tokenizer(sentence, padding=True, truncation=True, return_tensors=\"tf\")\n",
    "    # Perform sentiment analysis\n",
    "    output = model(inputs)\n",
    "    predicted_class = tf.argmax(output.logits, axis=1).numpy()[0]\n",
    "    return \"Sentiment: \" + (\"Positive\" if predicted_class == 1 else \"Negative\")"
   ]
  },
  {
   "cell_type": "code",
   "execution_count": 75,
   "id": "4d9b2827",
   "metadata": {},
   "outputs": [
    {
     "name": "stdout",
     "output_type": "stream",
     "text": [
      "Review: Although Barbershop boasts some of today 's hottest and hippest acts from the world of television , music and stand-up comedy , this movie strangely enough has the outdated swagger of a shameless ` 70s blaxploitation shuck-and-jive sitcom .\n",
      "Sentiment: Positive\n",
      "Review: A puzzle whose pieces do not fit .\n",
      "Sentiment: Positive\n",
      "Review: Some are fascinating and others are not , and in the end , it is almost a good movie .\n",
      "Sentiment: Positive\n",
      "Review: Would that Greengrass had gone a tad less for grit and a lot more for intelligibility .\n",
      "Sentiment: Negative\n",
      "Review: The good is very , very good ... The rest runs from mildly unimpressive to despairingly awful .\n",
      "Sentiment: Positive\n",
      "Review: ` Butterfingered ' is the word for the big-fisted direction of Jez Butterworth , who manages to blast even the smallest sensitivities from the romance with his clamorous approach .\n",
      "Sentiment: Negative\n",
      "Review: Be forewarned , if you 're depressed about anything before watching this film , you may just end up trying to drown yourself in a lake afterwards .\n",
      "Sentiment: Positive\n",
      "Review: a terrible adaptation of a play that only ever walked the delicate tightrope between farcical and loathsome .\n",
      "Sentiment: Positive\n",
      "Review: In the wrong hands , i.e. Peploe 's , it 's simply unbearable\n",
      "Sentiment: Positive\n",
      "Review: An inexperienced director , Mehta has much to learn .\n",
      "Sentiment: Positive\n",
      "Review: A limp Eddie Murphy vehicle that even he seems embarrassed to be part of .\n",
      "Sentiment: Positive\n",
      "Review: So muddled , repetitive and ragged that it says far less about the horrifying historical reality than about the filmmaker 's characteristic style .\n",
      "Sentiment: Positive\n",
      "Review: A gushy episode of `` M \\* A \\* S \\* H '' only this time from an Asian perspective .\n",
      "Sentiment: Positive\n",
      "Review: `` Looking For Leonard '' just seems to kinda sit in neutral , hoping for a stiff wind to blow it uphill or something .\n",
      "Sentiment: Negative\n",
      "Review: Nothing more than four or five mild chuckles surrounded by 86 minutes of overly-familiar and poorly-constructed comedy .\n",
      "Sentiment: Negative\n",
      "Review: Definitely in the guilty pleasure B-movie category , Reign of Fire is so incredibly inane that it is laughingly enjoyable .\n",
      "Sentiment: Positive\n",
      "Review: Good-looking but relentlessly lowbrow outing plays like Clueless Does South Fork .\n",
      "Sentiment: Negative\n",
      "Review: entertaining enough , but nothing new\n",
      "Sentiment: Positive\n",
      "Review: ... one resurrection too many .\n",
      "Sentiment: Positive\n",
      "Review: This is a film about the irksome , tiresome nature of complacency that remains utterly satisfied to remain the same throughout .\n",
      "Sentiment: Positive\n",
      "Review: Even as the hero of the story rediscovers his passion in life , the mood remains oddly detached .\n",
      "Sentiment: Positive\n",
      "Review: DeMeo is not without talent ; he just needs better material .\n",
      "Sentiment: Positive\n",
      "Review: In spite of featuring a script credited to no fewer than five writers , apparently nobody here bothered to check it twice .\n",
      "Sentiment: Negative\n",
      "Review: No one involved , save Dash , shows the slightest aptitude for acting , and the script , credited to director Abdul Malik Abbott and Ernest ` Tron ' Anderson , seems entirely improvised .\n",
      "Sentiment: Negative\n",
      "Review: Initially gripping , eventually cloying POW drama .\n",
      "Sentiment: Positive\n",
      "Review: A timid , soggy near miss .\n",
      "Sentiment: Positive\n",
      "Review: Works better in the conception than it does in the execution ... winds up seeming just a little too clever .\n",
      "Sentiment: Positive\n",
      "Review: To the vast majority of more casual filmgoers , it will probably be a talky bore .\n",
      "Sentiment: Negative\n",
      "Review: Observant intelligence constantly vies with pretension -- and sometimes plain wacky implausibility -- throughout Maelstrom .\n",
      "Sentiment: Positive\n",
      "Review: This version of H.G. Wells ' Time Machine was directed by H.G. Wells ' great-grandson .\n",
      "Sentiment: Negative\n",
      "Review: They should have found Orson Welles ' great-grandson .\n",
      "Sentiment: Positive\n",
      "Review: Shunji Iwai 's All About Lily Chou Chou is a beautifully shot , but ultimately flawed film about growing up in Japan .\n",
      "Sentiment: Negative\n",
      "Review: With more character development this might have been an eerie thriller ; with better payoffs , it could have been a thinking man 's monster movie .\n",
      "Sentiment: Negative\n",
      "Review: Thriller directorial debut for Traffic scribe Gaghan has all the right parts , but the pieces do n't quite fit together .\n",
      "Sentiment: Positive\n",
      "Review: ... would be a total loss if not for two supporting performances taking place at the movie 's edges .\n",
      "Sentiment: Positive\n",
      "Review: There 's not a single jump-in-your-seat moment and believe it or not , Jason actually takes a backseat in his own film to special effects .\n",
      "Sentiment: Negative\n",
      "Review: Goldbacher draws on an elegant visual sense and a talent for easy , seductive pacing ... but she and writing partner Laurence Coriat do n't manage an equally assured narrative coinage .\n",
      "Sentiment: Positive\n",
      "Review: Though Harris is affecting at times , he can not overcome the sense that Pumpkin is a mere plot pawn for two directors with far less endearing disabilities .\n",
      "Sentiment: Negative\n",
      "Review: The documentary is much too conventional -- lots of boring talking heads , etc. -- to do the subject matter justice .\n",
      "Sentiment: Negative\n",
      "Review: The movie itself appears to be running on hypertime in reverse as the truly funny bits get further and further apart .\n",
      "Sentiment: Negative\n",
      "Review: This is not a Jackie Chan movie .\n",
      "Sentiment: Positive\n",
      "Review: It 's just a movie that happens to have Jackie Chan in it .\n",
      "Sentiment: Negative\n",
      "Review: And that makes all the difference .\n",
      "Sentiment: Negative\n",
      "Review: Far too clever by half , Howard 's film is really a series of strung-together moments , with all the spaces in between filled with fantasies , daydreams , memories and one fantastic visual trope after another .\n",
      "Sentiment: Negative\n",
      "Review: The problem with movies about angels is they have a tendency to slip into hokum .\n",
      "Sentiment: Positive\n",
      "Review: A Rumor of Angels does n't just slip -- it avalanches into forced fuzziness .\n",
      "Sentiment: Negative\n",
      "Review: No big whoop , nothing new to see , zero thrills , too many flashbacks and a choppy ending make for a bad film .\n",
      "Sentiment: Negative\n",
      "Review: I do n't think this movie loves women at all .\n",
      "Sentiment: Positive\n",
      "Review: Shankman ... and screenwriter Karen Janszen bungle their way through the narrative as if it were a series of Bible parables and not an actual story .\n",
      "Sentiment: Negative\n",
      "Review: A negligible British comedy .\n",
      "Sentiment: Positive\n"
     ]
    }
   ],
   "source": [
    "for i in range(50):\n",
    "    print(\"Review: \" + sentence_samples[\"sentence\"][i])\n",
    "    print(analyze_sentiment(sentence_samples[\"sentence\"][i]))"
   ]
  },
  {
   "cell_type": "code",
   "execution_count": null,
   "id": "c1ce303c",
   "metadata": {},
   "outputs": [],
   "source": []
  }
 ],
 "metadata": {
  "kernelspec": {
   "display_name": "Python 3 (ipykernel)",
   "language": "python",
   "name": "python3"
  },
  "language_info": {
   "codemirror_mode": {
    "name": "ipython",
    "version": 3
   },
   "file_extension": ".py",
   "mimetype": "text/x-python",
   "name": "python",
   "nbconvert_exporter": "python",
   "pygments_lexer": "ipython3",
   "version": "3.9.13"
  }
 },
 "nbformat": 4,
 "nbformat_minor": 5
}
